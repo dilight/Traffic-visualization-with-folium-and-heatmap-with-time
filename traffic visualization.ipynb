{
 "cells": [
  {
   "cell_type": "markdown",
   "id": "00f0cd9f-43cc-4b0f-b40d-c394a0f726f1",
   "metadata": {},
   "source": [
    "# Traffic state visualization with foulium and heatmap with time\n"
   ]
  },
  {
   "cell_type": "code",
   "execution_count": null,
   "id": "5f998180-40a3-4f42-86b5-8a723e876d1f",
   "metadata": {},
   "outputs": [],
   "source": [
    "import pandas as pd\n",
    "\n",
    "tfs= pd.read_csv('2022_03_Marc_TRAMS_TRAMS.csv', sep=',')\n",
    "tfs= tfs.loc[(20220325070000<=tfs.data) & (tfs.data<20220325240000)] # select an especific day \n",
    "tfs['hour']=0 # add a new column to represent the hour\n",
    "tfs['min']=0 # add a new column to represent the minute\n",
    "\n",
    "for index, row in tfs.iterrows():\n",
    "    strdate= str(row.data)\n",
    "    row['hour'] =int(strdate[8]+strdate[9]) # get the hour value for every row\n",
    "    row['min'] = int(strdate[10]+strdate[11]) # get the minute value for every row\n",
    "\n",
    "# Check if there is traffic information missing for a given time\n",
    "minutes=[0,5,10,15,20,25,30,35,40,45,50,55]\n",
    "for hour in range(7,23):\n",
    "    for min in minutes:\n",
    "        d= tfs.loc[(hour==tfs['hour']) & (min==tfs['min'])]\n",
    "        if d.shape[0]==0:\n",
    "            print(hour,min)"
   ]
  },
  {
   "cell_type": "code",
   "execution_count": null,
   "id": "462e31bf-7b4c-4f19-a3d7-ebb0b2ae6bf1",
   "metadata": {},
   "outputs": [],
   "source": [
    "tfs.head()"
   ]
  },
  {
   "cell_type": "code",
   "execution_count": null,
   "id": "fb3cbb4f-5a3e-4b91-b9e2-cb0a4964903c",
   "metadata": {},
   "outputs": [],
   "source": [
    "tfs.info()"
   ]
  },
  {
   "cell_type": "code",
   "execution_count": null,
   "id": "3acca8d8-a768-42dd-9ef5-f7b6f3e443be",
   "metadata": {},
   "outputs": [],
   "source": [
    "sections = pd.read_csv('transit_relacio_trams.csv', sep=',')\n",
    "sections.head()"
   ]
  },
  {
   "cell_type": "code",
   "execution_count": null,
   "id": "b9979971-1c77-4c8a-88b2-25a741d39a55",
   "metadata": {},
   "outputs": [],
   "source": [
    "streets = sections[\"Coordenades\"].str.split(',')\n",
    "streets"
   ]
  },
  {
   "cell_type": "code",
   "execution_count": null,
   "id": "cbf434d0-b628-4c13-9a8e-5e2db885b16e",
   "metadata": {},
   "outputs": [],
   "source": [
    "from shapely.geometry import LineString\n",
    "\n",
    "sections = pd.read_csv('transit_relacio_trams.csv', sep=',')\n",
    "\n",
    "def reshape(coordinates):\n",
    "    coordinates = coordinates.split(\",\")\n",
    "    reshaped=[]\n",
    "    for i in range(0, len(coordinates), 2):\n",
    "        a = (float(coordinates[i]), float(coordinates[i+1]))\n",
    "        reshaped.append(a)\n",
    "    return LineString(reshaped)\n",
    "\n",
    "geometry = sections['Coordenades'].apply(lambda x: reshape(x))\n",
    "geometry"
   ]
  },
  {
   "cell_type": "code",
   "execution_count": null,
   "id": "c3b8e928-d312-47a1-983c-457fa475e78e",
   "metadata": {},
   "outputs": [],
   "source": [
    "import folium\n",
    "from geopandas import GeoDataFrame\n",
    "\n",
    "gdf = GeoDataFrame(sections, crs=\"EPSG:4326\", geometry=geometry)\n",
    "barcelona_map = folium.Map([41.40,2.17], zoom_start=12) # create a folium map\n",
    "folium.GeoJson(gdf).add_to(barcelona_map) # plot the street sections onto the map\n",
    "# plot map\n",
    "barcelona_map"
   ]
  },
  {
   "cell_type": "code",
   "execution_count": null,
   "id": "d4d2063f-8c6d-4882-b25a-38484c5508ee",
   "metadata": {},
   "outputs": [],
   "source": [
    "auxtfs= tfs.loc[(tfs['hour']==15) & (tfs['min']==0)].reset_index() # Get traffic state of a specific hour\n",
    "data = pd.concat([auxtfs, sections], axis=1) # merge the traffic state information with section geometry\n",
    "data['geometry'] = geometry\n",
    "merged_gdf = GeoDataFrame(data, crs=\"EPSG:4326\", geometry=data['geometry'])\n",
    "merged_gdf = merged_gdf[[\"estatActual\", \"Tram\", \"geometry\"]]\n",
    "merged_gdf"
   ]
  },
  {
   "cell_type": "code",
   "execution_count": null,
   "id": "87c56c23-c2ad-423d-b080-1dce2ffc63c4",
   "metadata": {},
   "outputs": [],
   "source": [
    "import branca\n",
    "import branca.colormap as cm\n",
    "\n",
    "colorscale = cm.LinearColormap(colors=['silver','cyan','lawngreen','yellow','orange','red', 'black'], index=[0,1,2,3,4,5,6],vmin=0,vmax=6)\n",
    "colorscale.caption = \"Traffic state of the sections\"\n",
    "\n",
    "def style_function(feature):\n",
    "    return { 'color': colorscale(int(feature['properties']['estatActual'])) }\n",
    "\n",
    "barcelona_map = folium.Map([41.40,2.17], zoom_start=12) # create a folium map\n",
    "folium.GeoJson(merged_gdf, style_function=style_function).add_to(barcelona_map)\n",
    "barcelona_map.add_child(colorscale)\n",
    "\n",
    "# plot map\n",
    "barcelona_map"
   ]
  },
  {
   "cell_type": "code",
   "execution_count": null,
   "id": "8fa623c3-d403-4697-bb2c-f125adfafcb9",
   "metadata": {},
   "outputs": [],
   "source": [
    "from folium.plugins import HeatMapWithTime\n",
    "from branca.element import Figure\n",
    "\n",
    "coords_1=[] # coordinates of the vhehicles at different time period\n",
    "# assign time period to traffic states recorded at the same time\n",
    "tfs['period']=0\n",
    "tfs['period']= sorted([i for i in range(1, int(tfs.shape[0]/len(tfs.idTram.unique()))+1)] * len(tfs.idTram.unique()))\n",
    "\n",
    "for m in tfs['period'].unique():\n",
    "    s=[] # traffic state of every period\n",
    "    temp= tfs.loc[tfs['period']==m]\n",
    "    index = 0\n",
    "    for n in tfs.idTram.unique():\n",
    "        # we add 1 to the traffic state of every section, therefore, sections with traffic state 0 (no data)\n",
    "        # will be considered as fluent traffic state\n",
    "        traffic= (int(temp['estatActual'].loc[temp['idTram']==n].values)+1) \n",
    "        pos = 0\n",
    "        while pos < len(sections.Coordenades.iloc[index].split(','))-2:\n",
    "            # start and end point of a line segment\n",
    "            start= [float(sections.Coordenades.iloc[index].split(',')[pos+1]), float(sections.Coordenades.iloc[index].split(',')[pos])]\n",
    "            end = [float(sections.Coordenades.iloc[index].split(',')[pos+1+2]), float(sections.Coordenades.iloc[index].split(',')[pos+2])]\n",
    "            \n",
    "            # assign \"vehicles\" to the line segment according to the traffic situation\n",
    "            x= (end[0]- start[0])/traffic \n",
    "            y= (end[1]- start[1])/traffic\n",
    "            for i in range(traffic):\n",
    "                start[0]+=x\n",
    "                start[1]+=y\n",
    "                s.append([float(start[0]), float(start[1])])\n",
    "            pos+=2\n",
    "        index += 1\n",
    "    coords_1.append(s)\n",
    "\n",
    "# add the vehicle coordinates as heatmap dots to the map\n",
    "heatmap=Figure(width=850,height=550)\n",
    "barcelona_map=folium.Map(location=[41.40,2.17],zoom_start=10)\n",
    "heatmap.add_child(barcelona_map)\n",
    "HeatMapWithTime(coords_1,radius=5,auto_play=True,position='bottomright').add_to(barcelona_map)\n",
    "barcelona_map"
   ]
  },
  {
   "cell_type": "code",
   "execution_count": null,
   "id": "cc1db6a7-b8a9-41b7-9dc2-ff682e556eb1",
   "metadata": {},
   "outputs": [],
   "source": []
  }
 ],
 "metadata": {
  "kernelspec": {
   "display_name": "Python 3 (ipykernel)",
   "language": "python",
   "name": "python3"
  },
  "language_info": {
   "codemirror_mode": {
    "name": "ipython",
    "version": 3
   },
   "file_extension": ".py",
   "mimetype": "text/x-python",
   "name": "python",
   "nbconvert_exporter": "python",
   "pygments_lexer": "ipython3",
   "version": "3.9.7"
  }
 },
 "nbformat": 4,
 "nbformat_minor": 5
}
